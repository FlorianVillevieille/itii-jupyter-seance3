{
 "cells": [
  {
   "cell_type": "code",
   "execution_count": 31,
   "metadata": {
    "scrolled": true
   },
   "outputs": [
    {
     "name": "stdout",
     "output_type": "stream",
     "text": [
      "la racine de 10 est : 0.77060546875\n"
     ]
    }
   ],
   "source": [
    "import numpy as np\n",
    "import matplotlib.pyplot as plt\n",
    "\n",
    "def f(x):\n",
    "    return x**3+2*x-2\n",
    "\n",
    "def plot_f(function,interv=[0,1],step=1e-2):\n",
    "    import numpy as np\n",
    "    import matplotlib.pyplot as plt\n",
    "    x_list = np.arange(interv[0],interv[1]+step,step)\n",
    "    plt.plot(x_list,f(x_list),linewidth=3)\n",
    "    plt.xlim(interv)\n",
    "    plt.xlabel(\"x\",size=12)\n",
    "    plt.ylabel(\"f(x)\",size=12)\n",
    "    plt.hlines(0,interv[0],interv[1],linestyle='--',linewidth=1)\n",
    "    plt.show()\n",
    "    \n",
    "def racine(N):\n",
    "    intervalle = [0,0.1,1]\n",
    "    compteur=0\n",
    "    \n",
    "    while compteur < N :\n",
    "        if f(intervalle[0])*f(intervalle[1])<0:\n",
    "            intervalle = [intervalle[0],(intervalle[0]+intervalle[1])/2,intervalle[1]]\n",
    "        else:\n",
    "            intervalle = [intervalle[1],(intervalle[1]+intervalle[2])/2,intervalle[2]]\n",
    "        compteur=compteur+1;\n",
    "    return intervalle[1]\n",
    "    \n",
    "    \n",
    "    \n",
    "    \n",
    "print(\"la racine de 10 est :\",racine(10))\n",
    "    \n",
    "    \n",
    "    \n",
    "\n",
    "    "
   ]
  },
  {
   "cell_type": "code",
   "execution_count": null,
   "metadata": {},
   "outputs": [],
   "source": []
  },
  {
   "cell_type": "code",
   "execution_count": null,
   "metadata": {},
   "outputs": [],
   "source": []
  },
  {
   "cell_type": "code",
   "execution_count": null,
   "metadata": {},
   "outputs": [],
   "source": []
  },
  {
   "cell_type": "code",
   "execution_count": null,
   "metadata": {},
   "outputs": [],
   "source": []
  },
  {
   "cell_type": "code",
   "execution_count": null,
   "metadata": {},
   "outputs": [],
   "source": []
  },
  {
   "cell_type": "code",
   "execution_count": null,
   "metadata": {},
   "outputs": [],
   "source": []
  }
 ],
 "metadata": {
  "kernelspec": {
   "display_name": "Python 3",
   "language": "python",
   "name": "python3"
  },
  "language_info": {
   "codemirror_mode": {
    "name": "ipython",
    "version": 3
   },
   "file_extension": ".py",
   "mimetype": "text/x-python",
   "name": "python",
   "nbconvert_exporter": "python",
   "pygments_lexer": "ipython3",
   "version": "3.7.6"
  }
 },
 "nbformat": 4,
 "nbformat_minor": 4
}
